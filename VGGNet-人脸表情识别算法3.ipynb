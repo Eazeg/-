{
 "cells": [
  {
   "cell_type": "code",
   "execution_count": 3,
   "id": "d8db4909-8c8e-4cbe-b123-132ede5ba4da",
   "metadata": {},
   "outputs": [],
   "source": [
    "import numpy as np  # 线性代数\n",
    "import pandas as pd  # 数据预处理, CSV 文件 I/O (e.g. pd.read_csv)\n",
    "from tensorflow.keras import callbacks\n",
    "from tensorflow.keras.utils import to_categorical\n",
    "from tensorflow.keras.callbacks import EarlyStopping, ReduceLROnPlateau\n",
    "from tensorflow.keras.models import Sequential,load_model\n",
    "from tensorflow.keras.layers import Dense, Dropout, Activation, Flatten\n",
    "from tensorflow.keras.layers import Conv2D, MaxPooling2D, BatchNormalization\n",
    "from sklearn.metrics import accuracy_score\n",
    "from tensorflow.keras.optimizers import Adam, SGD\n",
    "from tensorflow.keras.regularizers import l2\n",
    "from tensorflow.keras.preprocessing.image import ImageDataGenerator\n",
    "from sklearn.metrics import classification_report, confusion_matrix\n",
    "import matplotlib.pyplot as plt\n",
    "import seaborn as sns\n",
    "import os\n",
    "from tensorflow.keras.metrics import CategoricalAccuracy"
   ]
  },
  {
   "cell_type": "markdown",
   "id": "af9876ff",
   "metadata": {
    "papermill": {
     "duration": 0.007495,
     "end_time": "2024-01-03T18:52:55.068131",
     "exception": false,
     "start_time": "2024-01-03T18:52:55.060636",
     "status": "completed"
    },
    "pycharm": {
     "name": "#%% md\n"
    },
    "tags": []
   },
   "source": [
    " "
   ]
  },
  {
   "cell_type": "code",
   "execution_count": 4,
   "id": "96683ec7",
   "metadata": {
    "papermill": {
     "duration": 5.956934,
     "end_time": "2024-01-03T18:53:01.032809",
     "exception": false,
     "start_time": "2024-01-03T18:52:55.075875",
     "status": "completed"
    },
    "pycharm": {
     "name": "#%%\n"
    },
    "tags": []
   },
   "outputs": [
    {
     "data": {
      "text/plain": [
       "(35887, 3)"
      ]
     },
     "execution_count": 4,
     "metadata": {},
     "output_type": "execute_result"
    }
   ],
   "source": [
    "data = pd.read_csv(\"fer2013.csv\")\n",
    "# 查看数据集形状\n",
    "data.shape"
   ]
  },
  {
   "cell_type": "code",
   "execution_count": 5,
   "id": "707e2b96",
   "metadata": {
    "papermill": {
     "duration": 0.027105,
     "end_time": "2024-01-03T18:53:01.068361",
     "exception": false,
     "start_time": "2024-01-03T18:53:01.041256",
     "status": "completed"
    },
    "pycharm": {
     "name": "#%%\n"
    },
    "tags": []
   },
   "outputs": [
    {
     "data": {
      "text/html": [
       "<div>\n",
       "<style scoped>\n",
       "    .dataframe tbody tr th:only-of-type {\n",
       "        vertical-align: middle;\n",
       "    }\n",
       "\n",
       "    .dataframe tbody tr th {\n",
       "        vertical-align: top;\n",
       "    }\n",
       "\n",
       "    .dataframe thead th {\n",
       "        text-align: right;\n",
       "    }\n",
       "</style>\n",
       "<table border=\"1\" class=\"dataframe\">\n",
       "  <thead>\n",
       "    <tr style=\"text-align: right;\">\n",
       "      <th></th>\n",
       "      <th>emotion</th>\n",
       "      <th>pixels</th>\n",
       "      <th>Usage</th>\n",
       "    </tr>\n",
       "  </thead>\n",
       "  <tbody>\n",
       "    <tr>\n",
       "      <th>0</th>\n",
       "      <td>0</td>\n",
       "      <td>70 80 82 72 58 58 60 63 54 58 60 48 89 115 121...</td>\n",
       "      <td>Training</td>\n",
       "    </tr>\n",
       "    <tr>\n",
       "      <th>1</th>\n",
       "      <td>0</td>\n",
       "      <td>151 150 147 155 148 133 111 140 170 174 182 15...</td>\n",
       "      <td>Training</td>\n",
       "    </tr>\n",
       "    <tr>\n",
       "      <th>2</th>\n",
       "      <td>2</td>\n",
       "      <td>231 212 156 164 174 138 161 173 182 200 106 38...</td>\n",
       "      <td>Training</td>\n",
       "    </tr>\n",
       "    <tr>\n",
       "      <th>3</th>\n",
       "      <td>4</td>\n",
       "      <td>24 32 36 30 32 23 19 20 30 41 21 22 32 34 21 1...</td>\n",
       "      <td>Training</td>\n",
       "    </tr>\n",
       "    <tr>\n",
       "      <th>4</th>\n",
       "      <td>6</td>\n",
       "      <td>4 0 0 0 0 0 0 0 0 0 0 0 3 15 23 28 48 50 58 84...</td>\n",
       "      <td>Training</td>\n",
       "    </tr>\n",
       "    <tr>\n",
       "      <th>5</th>\n",
       "      <td>2</td>\n",
       "      <td>55 55 55 55 55 54 60 68 54 85 151 163 170 179 ...</td>\n",
       "      <td>Training</td>\n",
       "    </tr>\n",
       "    <tr>\n",
       "      <th>6</th>\n",
       "      <td>4</td>\n",
       "      <td>20 17 19 21 25 38 42 42 46 54 56 62 63 66 82 1...</td>\n",
       "      <td>Training</td>\n",
       "    </tr>\n",
       "    <tr>\n",
       "      <th>7</th>\n",
       "      <td>3</td>\n",
       "      <td>77 78 79 79 78 75 60 55 47 48 58 73 77 79 57 5...</td>\n",
       "      <td>Training</td>\n",
       "    </tr>\n",
       "    <tr>\n",
       "      <th>8</th>\n",
       "      <td>3</td>\n",
       "      <td>85 84 90 121 101 102 133 153 153 169 177 189 1...</td>\n",
       "      <td>Training</td>\n",
       "    </tr>\n",
       "    <tr>\n",
       "      <th>9</th>\n",
       "      <td>2</td>\n",
       "      <td>255 254 255 254 254 179 122 107 95 124 149 150...</td>\n",
       "      <td>Training</td>\n",
       "    </tr>\n",
       "  </tbody>\n",
       "</table>\n",
       "</div>"
      ],
      "text/plain": [
       "   emotion                                             pixels     Usage\n",
       "0        0  70 80 82 72 58 58 60 63 54 58 60 48 89 115 121...  Training\n",
       "1        0  151 150 147 155 148 133 111 140 170 174 182 15...  Training\n",
       "2        2  231 212 156 164 174 138 161 173 182 200 106 38...  Training\n",
       "3        4  24 32 36 30 32 23 19 20 30 41 21 22 32 34 21 1...  Training\n",
       "4        6  4 0 0 0 0 0 0 0 0 0 0 0 3 15 23 28 48 50 58 84...  Training\n",
       "5        2  55 55 55 55 55 54 60 68 54 85 151 163 170 179 ...  Training\n",
       "6        4  20 17 19 21 25 38 42 42 46 54 56 62 63 66 82 1...  Training\n",
       "7        3  77 78 79 79 78 75 60 55 47 48 58 73 77 79 57 5...  Training\n",
       "8        3  85 84 90 121 101 102 133 153 153 169 177 189 1...  Training\n",
       "9        2  255 254 255 254 254 179 122 107 95 124 149 150...  Training"
      ]
     },
     "execution_count": 5,
     "metadata": {},
     "output_type": "execute_result"
    }
   ],
   "source": [
    "#预览前10行数据\n",
    "data.head(10)"
   ]
  },
  {
   "cell_type": "code",
   "execution_count": 6,
   "id": "6cbac40f",
   "metadata": {
    "papermill": {
     "duration": 0.027592,
     "end_time": "2024-01-03T18:53:01.104148",
     "exception": false,
     "start_time": "2024-01-03T18:53:01.076556",
     "status": "completed"
    },
    "pycharm": {
     "name": "#%%\n"
    },
    "tags": []
   },
   "outputs": [
    {
     "data": {
      "text/plain": [
       "Usage\n",
       "Training       28709\n",
       "PublicTest      3589\n",
       "PrivateTest     3589\n",
       "Name: count, dtype: int64"
      ]
     },
     "execution_count": 6,
     "metadata": {},
     "output_type": "execute_result"
    }
   ],
   "source": [
    "#查看数据集的分类情况\n",
    "#80% 训练, 10% 验证 and 10% 测试\n",
    "data.Usage.value_counts()"
   ]
  },
  {
   "cell_type": "code",
   "execution_count": 7,
   "id": "3a73ca33",
   "metadata": {
    "papermill": {
     "duration": 0.0307,
     "end_time": "2024-01-03T18:53:01.143163",
     "exception": false,
     "start_time": "2024-01-03T18:53:01.112463",
     "status": "completed"
    },
    "pycharm": {
     "name": "#%%\n"
    },
    "tags": []
   },
   "outputs": [
    {
     "data": {
      "text/html": [
       "<div>\n",
       "<style scoped>\n",
       "    .dataframe tbody tr th:only-of-type {\n",
       "        vertical-align: middle;\n",
       "    }\n",
       "\n",
       "    .dataframe tbody tr th {\n",
       "        vertical-align: top;\n",
       "    }\n",
       "\n",
       "    .dataframe thead th {\n",
       "        text-align: right;\n",
       "    }\n",
       "</style>\n",
       "<table border=\"1\" class=\"dataframe\">\n",
       "  <thead>\n",
       "    <tr style=\"text-align: right;\">\n",
       "      <th></th>\n",
       "      <th>emotion</th>\n",
       "      <th>number</th>\n",
       "    </tr>\n",
       "  </thead>\n",
       "  <tbody>\n",
       "    <tr>\n",
       "      <th>0</th>\n",
       "      <td>Angry</td>\n",
       "      <td>4953</td>\n",
       "    </tr>\n",
       "    <tr>\n",
       "      <th>1</th>\n",
       "      <td>Disgust</td>\n",
       "      <td>547</td>\n",
       "    </tr>\n",
       "    <tr>\n",
       "      <th>2</th>\n",
       "      <td>Fear</td>\n",
       "      <td>5121</td>\n",
       "    </tr>\n",
       "    <tr>\n",
       "      <th>3</th>\n",
       "      <td>Happy</td>\n",
       "      <td>8989</td>\n",
       "    </tr>\n",
       "    <tr>\n",
       "      <th>4</th>\n",
       "      <td>Sad</td>\n",
       "      <td>6077</td>\n",
       "    </tr>\n",
       "    <tr>\n",
       "      <th>5</th>\n",
       "      <td>Surprise</td>\n",
       "      <td>4002</td>\n",
       "    </tr>\n",
       "    <tr>\n",
       "      <th>6</th>\n",
       "      <td>Neutral</td>\n",
       "      <td>6198</td>\n",
       "    </tr>\n",
       "  </tbody>\n",
       "</table>\n",
       "</div>"
      ],
      "text/plain": [
       "    emotion  number\n",
       "0     Angry    4953\n",
       "1   Disgust     547\n",
       "2      Fear    5121\n",
       "3     Happy    8989\n",
       "4       Sad    6077\n",
       "5  Surprise    4002\n",
       "6   Neutral    6198"
      ]
     },
     "execution_count": 7,
     "metadata": {},
     "output_type": "execute_result"
    }
   ],
   "source": [
    "#查看表情分类数据\n",
    "emotion_map = {0: 'Angry', 1: 'Disgust', 2: 'Fear', 3: 'Happy', 4: 'Sad', 5: 'Surprise', 6: 'Neutral'}\n",
    "emotion_counts = data['emotion'].value_counts().sort_index().reset_index()\n",
    "emotion_counts.columns = ['emotion', 'number']\n",
    "emotion_counts['emotion'] = emotion_counts['emotion'].map(emotion_map)\n",
    "emotion_counts"
   ]
  },
  {
   "cell_type": "code",
   "execution_count": 8,
   "id": "49ea3837",
   "metadata": {
    "papermill": {
     "duration": 0.524051,
     "end_time": "2024-01-03T18:53:01.676496",
     "exception": false,
     "start_time": "2024-01-03T18:53:01.152445",
     "status": "completed"
    },
    "pycharm": {
     "name": "#%%\n"
    },
    "tags": []
   },
   "outputs": [
    {
     "data": {
      "text/plain": [
       "Text(0.5, 0, 'Emotions')"
      ]
     },
     "execution_count": 8,
     "metadata": {},
     "output_type": "execute_result"
    },
    {
     "data": {
      "image/png": "[encoded data removed]",
      "text/plain": [
       "<Figure size 432x288 with 1 Axes>"
      ]
     },
     "metadata": {
      "needs_background": "light"
     },
     "output_type": "display_data"
    }
   ],
   "source": [
    "# 绘制类别分布条形图\n",
    "plt.figure(figsize=(6, 4))\n",
    "sns.barplot(x=emotion_counts.emotion, y=emotion_counts.number)\n",
    "plt.title('Class distribution')\n",
    "plt.ylabel('Number', fontsize=12)\n",
    "plt.xlabel('Emotions', fontsize=12)\n",
    "#plt.show()"
   ]
  },
  {
   "cell_type": "markdown",
   "id": "e707f4bf",
   "metadata": {
    "papermill": {
     "duration": 0.008717,
     "end_time": "2024-01-03T18:53:01.694395",
     "exception": false,
     "start_time": "2024-01-03T18:53:01.685678",
     "status": "completed"
    },
    "pycharm": {
     "name": "#%% md\n"
    },
    "tags": []
   },
   "source": [
    " "
   ]
  },
  {
   "cell_type": "code",
   "execution_count": 9,
   "id": "cf039355",
   "metadata": {
    "papermill": {
     "duration": 1.187001,
     "end_time": "2024-01-03T18:53:02.890203",
     "exception": false,
     "start_time": "2024-01-03T18:53:01.703202",
     "status": "completed"
    },
    "pycharm": {
     "name": "#%%\n"
    },
    "tags": []
   },
   "outputs": [
    {
     "data": {
      "image/png": "[encoded data removed]",
      "text/plain": [
       "<Figure size 1152x720 with 7 Axes>"
      ]
     },
     "metadata": {
      "needs_background": "light"
     },
     "output_type": "display_data"
    }
   ],
   "source": [
    "def row2image_label(row):\n",
    "    pixels, emotion = row['pixels'], emotion_map[row['emotion']]\n",
    "    img = np.array(pixels.split())\n",
    "    img = img.reshape(48, 48)\n",
    "    image = np.zeros((48, 48, 3))\n",
    "    image[:, :, 0] = img\n",
    "    image[:, :, 1] = img\n",
    "    image[:, :, 2] = img\n",
    "    return image.astype(np.uint8), emotion\n",
    "\n",
    "plt.figure(0, figsize=(16, 10))\n",
    "for i in range(1, 8):\n",
    "    face = data[data['emotion'] == i - 1].iloc[0]\n",
    "    img, label = row2image_label(face)\n",
    "    plt.subplot(2, 4, i)\n",
    "    plt.imshow(img)\n",
    "    plt.title(label)\n",
    "\n",
    "plt.show()"
   ]
  },
  {
   "cell_type": "markdown",
   "id": "5b2a0006",
   "metadata": {
    "papermill": {
     "duration": 0.00988,
     "end_time": "2024-01-03T18:53:02.910676",
     "exception": false,
     "start_time": "2024-01-03T18:53:02.900796",
     "status": "completed"
    },
    "pycharm": {
     "name": "#%% md\n"
    },
    "tags": []
   },
   "source": [
    " "
   ]
  },
  {
   "cell_type": "code",
   "execution_count": 10,
   "id": "1c408dbd",
   "metadata": {
    "papermill": {
     "duration": 0.0407,
     "end_time": "2024-01-03T18:53:02.961768",
     "exception": false,
     "start_time": "2024-01-03T18:53:02.921068",
     "status": "completed"
    },
    "pycharm": {
     "name": "#%%\n"
    },
    "tags": []
   },
   "outputs": [
    {
     "name": "stdout",
     "output_type": "stream",
     "text": [
      "train shape: (28709, 3)\n",
      "validation shape: (3589, 3)\n",
      "test shape: (3589, 3)\n"
     ]
    }
   ],
   "source": [
    "#分割数据为: train, validation, test\n",
    "data_train = data[data['Usage'] == 'Training'].copy()\n",
    "data_val = data[data['Usage'] == 'PublicTest'].copy()\n",
    "data_test = data[data['Usage'] == 'PrivateTest'].copy()\n",
    "print(f\"train shape: {data_train.shape}\")\n",
    "print(f\"validation shape: {data_val.shape}\")\n",
    "print(f\"test shape: {data_test.shape}\")"
   ]
  },
  {
   "cell_type": "code",
   "execution_count": 11,
   "id": "d980e25f",
   "metadata": {
    "papermill": {
     "duration": 0.712592,
     "end_time": "2024-01-03T18:53:03.684907",
     "exception": false,
     "start_time": "2024-01-03T18:53:02.972315",
     "status": "completed"
    },
    "pycharm": {
     "name": "#%%\n"
    },
    "tags": []
   },
   "outputs": [
    {
     "data": {
      "image/png": "[encoded data removed]",
      "text/plain": [
       "<Figure size 1440x576 with 3 Axes>"
      ]
     },
     "metadata": {
      "needs_background": "light"
     },
     "output_type": "display_data"
    }
   ],
   "source": [
    "# 绘制train, val, test的条形图\n",
    "emotion_labels = ['Angry', 'Disgust', 'Fear', 'Happy', 'Sad', 'Surprise', 'Neutral']\n",
    "\n",
    "\n",
    "def setup_axe(axe, df, title):\n",
    "    df['emotion'].value_counts().sort_index().plot(ax=axe, kind='bar', rot=0,\n",
    "                                                   color=['r', 'g', 'b', 'r', 'g', 'b', 'r'])\n",
    "    axe.set_xticklabels(emotion_labels)\n",
    "    axe.set_xlabel(\"Emotions\")\n",
    "    axe.set_ylabel(\"Number\")\n",
    "    axe.set_title(title)\n",
    "\n",
    "    # 使用上述列表设置单个条形标签\n",
    "    for i in axe.patches:\n",
    "        # get_x pulls left or right; get_height pushes up or down\n",
    "        axe.text(i.get_x() - .05, i.get_height() + 120,\n",
    "                 str(round((i.get_height()), 2)), fontsize=14, color='dimgrey',\n",
    "                 rotation=0)\n",
    "\n",
    "fig, axes = plt.subplots(1, 3, figsize=(20, 8), sharey='all')\n",
    "setup_axe(axes[0], data_train, 'Train')\n",
    "setup_axe(axes[1], data_val, 'Validation')\n",
    "setup_axe(axes[2], data_test, 'Test')\n",
    "plt.show()"
   ]
  },
  {
   "cell_type": "markdown",
   "id": "39ffc94c",
   "metadata": {
    "papermill": {
     "duration": 0.010804,
     "end_time": "2024-01-03T18:53:03.707322",
     "exception": false,
     "start_time": "2024-01-03T18:53:03.696518",
     "status": "completed"
    },
    "pycharm": {
     "name": "#%% md\n"
    },
    "tags": []
   },
   "source": [
    " "
   ]
  },
  {
   "cell_type": "code",
   "execution_count": 12,
   "id": "849bb0b6",
   "metadata": {
    "papermill": {
     "duration": 0.018727,
     "end_time": "2024-01-03T18:53:03.737275",
     "exception": false,
     "start_time": "2024-01-03T18:53:03.718548",
     "status": "completed"
    },
    "pycharm": {
     "name": "#%%\n"
    },
    "tags": []
   },
   "outputs": [],
   "source": [
    "#初始化参数\n",
    "num_classes = 7\n",
    "width, height = 48, 48\n",
    "num_epochs = 150\n",
    "batch_size = 64\n",
    "num_features = 64\n",
    "rate_drop = 0.1"
   ]
  },
  {
   "cell_type": "code",
   "execution_count": 13,
   "id": "72874864",
   "metadata": {
    "papermill": {
     "duration": 22.804041,
     "end_time": "2024-01-03T18:53:26.552411",
     "exception": false,
     "start_time": "2024-01-03T18:53:03.748370",
     "status": "completed"
    },
    "pycharm": {
     "name": "#%%\n"
    },
    "tags": []
   },
   "outputs": [
    {
     "name": "stdout",
     "output_type": "stream",
     "text": [
      "train _X shape: (28709, 48, 48, 1),  train _Y shape: (28709, 7)\n",
      "val _X shape: (3589, 48, 48, 1),  val _Y shape: (3589, 7)\n",
      "test _X shape: (3589, 48, 48, 1),  test _Y shape: (3589, 7)\n"
     ]
    }
   ],
   "source": [
    "# 将数据标签由字符串改为整数\n",
    "# 调整图片大小为 48x48, 归一化图像\n",
    "# 更改标签编码为one-hot, e.g. 类别3(Happy)为 **[0,0,0,1,0,0,0]**\n",
    "\n",
    "def CRNO(df, dataName):\n",
    "    df['pixels'] = df['pixels'].apply(lambda pixel_sequence: [int(pixel) for pixel in pixel_sequence.split()])\n",
    "    data_X = np.array(df['pixels'].tolist(), dtype='float32').reshape(-1, width, height, 1) / 255.0\n",
    "    data_Y = to_categorical(df['emotion'], num_classes)\n",
    "    print(dataName, f\"_X shape: {data_X.shape}, \", dataName, f\"_Y shape: {data_Y.shape}\")\n",
    "    return data_X, data_Y\n",
    "\n",
    "\n",
    "train_X, train_Y = CRNO(data_train, \"train\")  #training data\n",
    "val_X, val_Y = CRNO(data_val, \"val\")  #validation data\n",
    "test_X, test_Y = CRNO(data_test, \"test\")  #test data"
   ]
  },
  {
   "cell_type": "markdown",
   "id": "0dc4751a",
   "metadata": {
    "papermill": {
     "duration": 0.011435,
     "end_time": "2024-01-03T18:53:26.575636",
     "exception": false,
     "start_time": "2024-01-03T18:53:26.564201",
     "status": "completed"
    },
    "pycharm": {
     "name": "#%% md\n"
    },
    "tags": []
   },
   "source": [
    " "
   ]
  },
  {
   "cell_type": "code",
   "execution_count": 14,
   "id": "12897d29",
   "metadata": {
    "papermill": {
     "duration": 3.363789,
     "end_time": "2024-01-03T18:53:29.951103",
     "exception": false,
     "start_time": "2024-01-03T18:53:26.587314",
     "status": "completed"
    },
    "pycharm": {
     "name": "#%%\n"
    },
    "tags": []
   },
   "outputs": [
    {
     "name": "stderr",
     "output_type": "stream",
     "text": [
      "2024-05-31 02:47:14.726681: I tensorflow/stream_executor/platform/default/dso_loader.cc:53] Successfully opened dynamic library libcuda.so.1\n",
      "2024-05-31 02:47:14.759853: I tensorflow/stream_executor/cuda/cuda_gpu_executor.cc:937] successful NUMA node read from SysFS had negative value (-1), but there must be at least one NUMA node, so returning NUMA node zero\n",
      "2024-05-31 02:47:14.760116: I tensorflow/core/common_runtime/gpu/gpu_device.cc:1733] Found device 0 with properties: \n",
      "pciBusID: 0000:0c:00.0 name: NVIDIA GeForce RTX 3090 computeCapability: 8.6\n",
      "coreClock: 1.695GHz coreCount: 82 deviceMemorySize: 23.68GiB deviceMemoryBandwidth: 871.81GiB/s\n",
      "2024-05-31 02:47:14.760141: I tensorflow/stream_executor/platform/default/dso_loader.cc:53] Successfully opened dynamic library libcudart.so.11.0\n",
      "2024-05-31 02:47:14.771067: I tensorflow/stream_executor/platform/default/dso_loader.cc:53] Successfully opened dynamic library libcublas.so.11\n",
      "2024-05-31 02:47:14.771145: I tensorflow/stream_executor/platform/default/dso_loader.cc:53] Successfully opened dynamic library libcublasLt.so.11\n",
      "2024-05-31 02:47:14.776405: I tensorflow/stream_executor/platform/default/dso_loader.cc:53] Successfully opened dynamic library libcufft.so.10\n",
      "2024-05-31 02:47:14.778225: I tensorflow/stream_executor/platform/default/dso_loader.cc:53] Successfully opened dynamic library libcurand.so.10\n",
      "2024-05-31 02:47:14.780875: I tensorflow/stream_executor/platform/default/dso_loader.cc:53] Successfully opened dynamic library libcusolver.so.11\n",
      "2024-05-31 02:47:14.783300: I tensorflow/stream_executor/platform/default/dso_loader.cc:53] Successfully opened dynamic library libcusparse.so.11\n",
      "2024-05-31 02:47:14.783476: I tensorflow/stream_executor/platform/default/dso_loader.cc:53] Successfully opened dynamic library libcudnn.so.8\n",
      "2024-05-31 02:47:14.783578: I tensorflow/stream_executor/cuda/cuda_gpu_executor.cc:937] successful NUMA node read from SysFS had negative value (-1), but there must be at least one NUMA node, so returning NUMA node zero\n",
      "2024-05-31 02:47:14.783837: I tensorflow/stream_executor/cuda/cuda_gpu_executor.cc:937] successful NUMA node read from SysFS had negative value (-1), but there must be at least one NUMA node, so returning NUMA node zero\n",
      "2024-05-31 02:47:14.784329: I tensorflow/core/common_runtime/gpu/gpu_device.cc:1871] Adding visible gpu devices: 0\n",
      "2024-05-31 02:47:14.784694: I tensorflow/core/platform/cpu_feature_guard.cc:142] This TensorFlow binary is optimized with oneAPI Deep Neural Network Library (oneDNN) to use the following CPU instructions in performance-critical operations:  AVX2 AVX512F FMA\n",
      "To enable them in other operations, rebuild TensorFlow with the appropriate compiler flags.\n",
      "2024-05-31 02:47:14.791116: I tensorflow/stream_executor/cuda/cuda_gpu_executor.cc:937] successful NUMA node read from SysFS had negative value (-1), but there must be at least one NUMA node, so returning NUMA node zero\n",
      "2024-05-31 02:47:14.791346: I tensorflow/core/common_runtime/gpu/gpu_device.cc:1733] Found device 0 with properties: \n",
      "pciBusID: 0000:0c:00.0 name: NVIDIA GeForce RTX 3090 computeCapability: 8.6\n",
      "coreClock: 1.695GHz coreCount: 82 deviceMemorySize: 23.68GiB deviceMemoryBandwidth: 871.81GiB/s\n",
      "2024-05-31 02:47:14.791402: I tensorflow/stream_executor/cuda/cuda_gpu_executor.cc:937] successful NUMA node read from SysFS had negative value (-1), but there must be at least one NUMA node, so returning NUMA node zero\n",
      "2024-05-31 02:47:14.791630: I tensorflow/stream_executor/cuda/cuda_gpu_executor.cc:937] successful NUMA node read from SysFS had negative value (-1), but there must be at least one NUMA node, so returning NUMA node zero\n",
      "2024-05-31 02:47:14.791818: I tensorflow/core/common_runtime/gpu/gpu_device.cc:1871] Adding visible gpu devices: 0\n",
      "2024-05-31 02:47:14.792297: I tensorflow/stream_executor/platform/default/dso_loader.cc:53] Successfully opened dynamic library libcudart.so.11.0\n",
      "2024-05-31 02:47:15.547880: I tensorflow/core/common_runtime/gpu/gpu_device.cc:1258] Device interconnect StreamExecutor with strength 1 edge matrix:\n",
      "2024-05-31 02:47:15.547902: I tensorflow/core/common_runtime/gpu/gpu_device.cc:1264]      0 \n",
      "2024-05-31 02:47:15.547907: I tensorflow/core/common_runtime/gpu/gpu_device.cc:1277] 0:   N \n",
      "2024-05-31 02:47:15.548177: I tensorflow/stream_executor/cuda/cuda_gpu_executor.cc:937] successful NUMA node read from SysFS had negative value (-1), but there must be at least one NUMA node, so returning NUMA node zero\n",
      "2024-05-31 02:47:15.548473: I tensorflow/stream_executor/cuda/cuda_gpu_executor.cc:937] successful NUMA node read from SysFS had negative value (-1), but there must be at least one NUMA node, so returning NUMA node zero\n",
      "2024-05-31 02:47:15.548712: I tensorflow/stream_executor/cuda/cuda_gpu_executor.cc:937] successful NUMA node read from SysFS had negative value (-1), but there must be at least one NUMA node, so returning NUMA node zero\n",
      "2024-05-31 02:47:15.548939: I tensorflow/core/common_runtime/gpu/gpu_device.cc:1418] Created TensorFlow device (/job:localhost/replica:0/task:0/device:GPU:0 with 22306 MB memory) -> physical GPU (device: 0, name: NVIDIA GeForce RTX 3090, pci bus id: 0000:0c:00.0, compute capability: 8.6)\n"
     ]
    },
    {
     "name": "stdout",
     "output_type": "stream",
     "text": [
      "Model: \"sequential\"\n",
      "_________________________________________________________________\n",
      "Layer (type)                 Output Shape              Param #   \n",
      "=================================================================\n",
      "conv2d (Conv2D)              (None, 48, 48, 64)        640       \n",
      "_________________________________________________________________\n",
      "batch_normalization (BatchNo (None, 48, 48, 64)        256       \n",
      "_________________________________________________________________\n",
      "activation (Activation)      (None, 48, 48, 64)        0         \n",
      "_________________________________________________________________\n",
      "conv2d_1 (Conv2D)            (None, 48, 48, 64)        36928     \n",
      "_________________________________________________________________\n",
      "batch_normalization_1 (Batch (None, 48, 48, 64)        256       \n",
      "_________________________________________________________________\n",
      "activation_1 (Activation)    (None, 48, 48, 64)        0         \n",
      "_________________________________________________________________\n",
      "max_pooling2d (MaxPooling2D) (None, 24, 24, 64)        0         \n",
      "_________________________________________________________________\n",
      "conv2d_2 (Conv2D)            (None, 24, 24, 128)       73856     \n",
      "_________________________________________________________________\n",
      "batch_normalization_2 (Batch (None, 24, 24, 128)       512       \n",
      "_________________________________________________________________\n",
      "activation_2 (Activation)    (None, 24, 24, 128)       0         \n",
      "_________________________________________________________________\n",
      "conv2d_3 (Conv2D)            (None, 24, 24, 128)       147584    \n",
      "_________________________________________________________________\n",
      "batch_normalization_3 (Batch (None, 24, 24, 128)       512       \n",
      "_________________________________________________________________\n",
      "activation_3 (Activation)    (None, 24, 24, 128)       0         \n",
      "_________________________________________________________________\n",
      "max_pooling2d_1 (MaxPooling2 (None, 12, 12, 128)       0         \n",
      "_________________________________________________________________\n",
      "conv2d_4 (Conv2D)            (None, 12, 12, 256)       295168    \n",
      "_________________________________________________________________\n",
      "batch_normalization_4 (Batch (None, 12, 12, 256)       1024      \n",
      "_________________________________________________________________\n",
      "activation_4 (Activation)    (None, 12, 12, 256)       0         \n",
      "_________________________________________________________________\n",
      "conv2d_5 (Conv2D)            (None, 12, 12, 256)       590080    \n",
      "_________________________________________________________________\n",
      "batch_normalization_5 (Batch (None, 12, 12, 256)       1024      \n",
      "_________________________________________________________________\n",
      "activation_5 (Activation)    (None, 12, 12, 256)       0         \n",
      "_________________________________________________________________\n",
      "max_pooling2d_2 (MaxPooling2 (None, 6, 6, 256)         0         \n",
      "_________________________________________________________________\n",
      "conv2d_6 (Conv2D)            (None, 6, 6, 512)         1180160   \n",
      "_________________________________________________________________\n",
      "batch_normalization_6 (Batch (None, 6, 6, 512)         2048      \n",
      "_________________________________________________________________\n",
      "activation_6 (Activation)    (None, 6, 6, 512)         0         \n",
      "_________________________________________________________________\n",
      "conv2d_7 (Conv2D)            (None, 6, 6, 512)         2359808   \n",
      "_________________________________________________________________\n",
      "batch_normalization_7 (Batch (None, 6, 6, 512)         2048      \n",
      "_________________________________________________________________\n",
      "activation_7 (Activation)    (None, 6, 6, 512)         0         \n",
      "_________________________________________________________________\n",
      "max_pooling2d_3 (MaxPooling2 (None, 3, 3, 512)         0         \n",
      "_________________________________________________________________\n",
      "flatten (Flatten)            (None, 4608)              0         \n",
      "_________________________________________________________________\n",
      "dense (Dense)                (None, 4096)              18878464  \n",
      "_________________________________________________________________\n",
      "dropout (Dropout)            (None, 4096)              0         \n",
      "_________________________________________________________________\n",
      "dense_1 (Dense)              (None, 4096)              16781312  \n",
      "_________________________________________________________________\n",
      "dropout_1 (Dropout)          (None, 4096)              0         \n",
      "_________________________________________________________________\n",
      "dense_2 (Dense)              (None, 7)                 28679     \n",
      "=================================================================\n",
      "Total params: 40,380,359\n",
      "Trainable params: 40,376,519\n",
      "Non-trainable params: 3,840\n",
      "_________________________________________________________________\n"
     ]
    }
   ],
   "source": [
    "model = Sequential()\n",
    "\n",
    "# ---------- Convolutional Stages 1 ----------\n",
    "# ***** Conv Block a *****\n",
    "model.add(Conv2D(64, kernel_size=(3, 3), input_shape=(width, height, 1),\n",
    "                 data_format='channels_last', padding='same'))\n",
    "model.add(BatchNormalization())\n",
    "model.add(Activation('relu'))\n",
    "# ***** Conv Block b *****\n",
    "model.add(Conv2D(64, kernel_size=(3, 3), padding='same'))\n",
    "model.add(BatchNormalization())\n",
    "model.add(Activation('relu'))\n",
    "# max pooling\n",
    "model.add(MaxPooling2D(pool_size=(2, 2)))\n",
    "\n",
    "# ---------- Convolutional Stages 2 ----------\n",
    "# ***** Conv Block a *****\n",
    "model.add(Conv2D(128, kernel_size=(3, 3), padding='same'))\n",
    "model.add(BatchNormalization())\n",
    "model.add(Activation('relu'))\n",
    "# ***** Conv Block b *****\n",
    "model.add(Conv2D(128, kernel_size=(3, 3), padding='same'))\n",
    "model.add(BatchNormalization())\n",
    "model.add(Activation('relu'))\n",
    "# max pooling\n",
    "model.add(MaxPooling2D(pool_size=(2, 2)))\n",
    "\n",
    "# ---------- Convolutional Stages 3 ----------\n",
    "# ***** Conv Block a *****\n",
    "model.add(Conv2D(256, kernel_size=(3, 3), padding='same'))\n",
    "model.add(BatchNormalization())\n",
    "model.add(Activation('relu'))\n",
    "# ***** Conv Block b *****\n",
    "model.add(Conv2D(256, kernel_size=(3, 3), padding='same'))\n",
    "model.add(BatchNormalization())\n",
    "model.add(Activation('relu'))\n",
    "# max pooling\n",
    "model.add(MaxPooling2D(pool_size=(2, 2)))\n",
    "\n",
    "# ---------- Convolutional Stages 4 ----------\n",
    "# ***** Conv Block a *****\n",
    "model.add(Conv2D(512, kernel_size=(3, 3), padding='same'))\n",
    "model.add(BatchNormalization())\n",
    "model.add(Activation('relu'))\n",
    "# ***** Conv Block b *****\n",
    "model.add(Conv2D(512, kernel_size=(3, 3), padding='same'))\n",
    "model.add(BatchNormalization())\n",
    "model.add(Activation('relu'))\n",
    "# max pooling\n",
    "model.add(MaxPooling2D(pool_size=(2, 2)))\n",
    "\n",
    "# Flatten\n",
    "model.add(Flatten())\n",
    "\n",
    "# Full connection\n",
    "model.add(Dense(4096, activation='relu', kernel_regularizer=l2()))\n",
    "model.add(Dropout(rate_drop))\n",
    "model.add(Dense(4096, activation='relu', kernel_regularizer=l2()))\n",
    "model.add(Dropout(rate_drop))\n",
    "\n",
    "#output layer\n",
    "model.add(Dense(num_classes, activation='softmax', kernel_regularizer=l2()))\n",
    "\n",
    "model.compile(loss=['categorical_crossentropy'],\n",
    "              optimizer=SGD(momentum=0.9, nesterov=True ,decay=1e-4),\n",
    "              metrics=['accuracy'])\n",
    "\n",
    "model.summary()"
   ]
  },
  {
   "cell_type": "code",
   "execution_count": 15,
   "id": "552f3e3e",
   "metadata": {
    "papermill": {
     "duration": 531.715792,
     "end_time": "2024-01-03T19:02:21.685252",
     "exception": false,
     "start_time": "2024-01-03T18:53:29.969460",
     "status": "completed"
    },
    "pycharm": {
     "name": "#%%\n"
    },
    "tags": []
   },
   "outputs": [
    {
     "name": "stderr",
     "output_type": "stream",
     "text": [
      "2024-05-31 02:47:41.371328: I tensorflow/compiler/mlir/mlir_graph_optimization_pass.cc:176] None of the MLIR Optimization Passes are enabled (registered 2)\n",
      "2024-05-31 02:47:41.371771: I tensorflow/core/platform/profile_utils/cpu_utils.cc:114] CPU Frequency: 2800030000 Hz\n"
     ]
    },
    {
     "name": "stdout",
     "output_type": "stream",
     "text": [
      "Epoch 1/150\n"
     ]
    },
    {
     "name": "stderr",
     "output_type": "stream",
     "text": [
      "2024-05-31 02:47:42.440725: I tensorflow/stream_executor/platform/default/dso_loader.cc:53] Successfully opened dynamic library libcudnn.so.8\n",
      "2024-05-31 02:47:43.264632: I tensorflow/stream_executor/cuda/cuda_dnn.cc:359] Loaded cuDNN version 8101\n",
      "2024-05-31 02:47:44.413295: I tensorflow/stream_executor/platform/default/dso_loader.cc:53] Successfully opened dynamic library libcublas.so.11\n",
      "2024-05-31 02:47:45.188526: I tensorflow/stream_executor/platform/default/dso_loader.cc:53] Successfully opened dynamic library libcublasLt.so.11\n",
      "2024-05-31 02:47:45.390006: I tensorflow/stream_executor/cuda/cuda_blas.cc:1838] TensorFloat-32 will be used for the matrix multiplication. This will only be logged once.\n"
     ]
    },
    {
     "name": "stdout",
     "output_type": "stream",
     "text": [
      "449/449 - 12s - loss: 42.5480 - accuracy: 0.2569 - val_loss: 16.5582 - val_accuracy: 0.2494\n",
      "Epoch 2/150\n",
      "449/449 - 7s - loss: 8.7343 - accuracy: 0.2998 - val_loss: 4.3725 - val_accuracy: 0.3199\n",
      "Epoch 3/150\n",
      "449/449 - 7s - loss: 2.9488 - accuracy: 0.3461 - val_loss: 2.5496 - val_accuracy: 0.3135\n",
      "Epoch 4/150\n",
      "449/449 - 7s - loss: 1.7738 - accuracy: 0.4149 - val_loss: 1.7062 - val_accuracy: 0.3965\n",
      "Epoch 5/150\n",
      "449/449 - 7s - loss: 1.4754 - accuracy: 0.4625 - val_loss: 1.3774 - val_accuracy: 0.4745\n",
      "Epoch 6/150\n",
      "449/449 - 7s - loss: 1.3593 - accuracy: 0.4952 - val_loss: 1.3630 - val_accuracy: 0.4890\n",
      "Epoch 7/150\n",
      "449/449 - 7s - loss: 1.2921 - accuracy: 0.5204 - val_loss: 1.2883 - val_accuracy: 0.5272\n",
      "Epoch 8/150\n",
      "449/449 - 7s - loss: 1.2560 - accuracy: 0.5371 - val_loss: 1.4170 - val_accuracy: 0.4909\n",
      "Epoch 9/150\n",
      "449/449 - 7s - loss: 1.2239 - accuracy: 0.5528 - val_loss: 1.2632 - val_accuracy: 0.5355\n",
      "Epoch 10/150\n",
      "449/449 - 7s - loss: 1.1988 - accuracy: 0.5624 - val_loss: 1.2213 - val_accuracy: 0.5433\n",
      "Epoch 11/150\n",
      "449/449 - 7s - loss: 1.1686 - accuracy: 0.5788 - val_loss: 1.1908 - val_accuracy: 0.5745\n",
      "Epoch 12/150\n",
      "449/449 - 7s - loss: 1.1497 - accuracy: 0.5835 - val_loss: 1.2472 - val_accuracy: 0.5489\n",
      "Epoch 13/150\n",
      "449/449 - 7s - loss: 1.1305 - accuracy: 0.5934 - val_loss: 1.2312 - val_accuracy: 0.5589\n",
      "Epoch 14/150\n",
      "449/449 - 7s - loss: 1.1149 - accuracy: 0.6022 - val_loss: 1.6254 - val_accuracy: 0.4826\n",
      "Epoch 15/150\n",
      "449/449 - 7s - loss: 1.0939 - accuracy: 0.6109 - val_loss: 1.2483 - val_accuracy: 0.5486\n",
      "Epoch 16/150\n",
      "449/449 - 7s - loss: 1.0774 - accuracy: 0.6191 - val_loss: 1.2458 - val_accuracy: 0.5645\n",
      "\n",
      "Epoch 00016: ReduceLROnPlateau reducing learning rate to 0.007499999832361937.\n",
      "Epoch 17/150\n",
      "449/449 - 7s - loss: 1.0516 - accuracy: 0.6271 - val_loss: 1.0902 - val_accuracy: 0.6155\n",
      "Epoch 18/150\n",
      "449/449 - 7s - loss: 1.0335 - accuracy: 0.6353 - val_loss: 1.1103 - val_accuracy: 0.6049\n",
      "Epoch 19/150\n",
      "449/449 - 7s - loss: 1.0231 - accuracy: 0.6402 - val_loss: 1.1209 - val_accuracy: 0.5991\n",
      "Epoch 20/150\n",
      "449/449 - 7s - loss: 1.0180 - accuracy: 0.6391 - val_loss: 1.0839 - val_accuracy: 0.6222\n",
      "Epoch 21/150\n",
      "449/449 - 7s - loss: 1.0059 - accuracy: 0.6476 - val_loss: 1.0552 - val_accuracy: 0.6241\n",
      "Epoch 22/150\n",
      "449/449 - 7s - loss: 0.9988 - accuracy: 0.6462 - val_loss: 1.1172 - val_accuracy: 0.6085\n",
      "Epoch 23/150\n",
      "449/449 - 7s - loss: 0.9865 - accuracy: 0.6523 - val_loss: 1.0547 - val_accuracy: 0.6266\n",
      "Epoch 24/150\n",
      "449/449 - 7s - loss: 0.9785 - accuracy: 0.6562 - val_loss: 1.0781 - val_accuracy: 0.6291\n",
      "Epoch 25/150\n",
      "449/449 - 7s - loss: 0.9681 - accuracy: 0.6587 - val_loss: 1.6200 - val_accuracy: 0.4628\n",
      "Epoch 26/150\n",
      "449/449 - 7s - loss: 0.9640 - accuracy: 0.6659 - val_loss: 1.0894 - val_accuracy: 0.6116\n",
      "Epoch 27/150\n",
      "449/449 - 7s - loss: 0.9530 - accuracy: 0.6683 - val_loss: 1.0760 - val_accuracy: 0.6386\n",
      "Epoch 28/150\n",
      "449/449 - 7s - loss: 0.9510 - accuracy: 0.6673 - val_loss: 1.0847 - val_accuracy: 0.6289\n",
      "Epoch 29/150\n",
      "449/449 - 7s - loss: 0.9396 - accuracy: 0.6759 - val_loss: 1.0809 - val_accuracy: 0.6294\n",
      "Epoch 30/150\n",
      "449/449 - 7s - loss: 0.9350 - accuracy: 0.6744 - val_loss: 1.0923 - val_accuracy: 0.6294\n",
      "Epoch 31/150\n",
      "449/449 - 7s - loss: 0.9265 - accuracy: 0.6790 - val_loss: 1.1670 - val_accuracy: 0.6071\n",
      "Epoch 32/150\n",
      "449/449 - 7s - loss: 0.9255 - accuracy: 0.6807 - val_loss: 1.0486 - val_accuracy: 0.6420\n",
      "Epoch 33/150\n",
      "449/449 - 7s - loss: 0.9134 - accuracy: 0.6863 - val_loss: 1.0605 - val_accuracy: 0.6397\n",
      "Epoch 34/150\n",
      "449/449 - 7s - loss: 0.9084 - accuracy: 0.6860 - val_loss: 1.0697 - val_accuracy: 0.6417\n",
      "Epoch 35/150\n",
      "449/449 - 7s - loss: 0.8955 - accuracy: 0.6951 - val_loss: 1.1368 - val_accuracy: 0.6135\n",
      "Epoch 36/150\n",
      "449/449 - 7s - loss: 0.8937 - accuracy: 0.6939 - val_loss: 1.0669 - val_accuracy: 0.6358\n",
      "Epoch 37/150\n",
      "449/449 - 7s - loss: 0.8823 - accuracy: 0.6966 - val_loss: 1.0947 - val_accuracy: 0.6417\n",
      "\n",
      "Epoch 00037: ReduceLROnPlateau reducing learning rate to 0.005624999874271452.\n",
      "Epoch 38/150\n",
      "449/449 - 7s - loss: 0.8668 - accuracy: 0.7013 - val_loss: 1.0725 - val_accuracy: 0.6422\n",
      "Epoch 39/150\n",
      "449/449 - 7s - loss: 0.8500 - accuracy: 0.7099 - val_loss: 1.1533 - val_accuracy: 0.6172\n",
      "Epoch 40/150\n",
      "449/449 - 7s - loss: 0.8461 - accuracy: 0.7101 - val_loss: 1.0449 - val_accuracy: 0.6414\n",
      "Epoch 41/150\n",
      "449/449 - 7s - loss: 0.8419 - accuracy: 0.7142 - val_loss: 1.0360 - val_accuracy: 0.6475\n",
      "Epoch 42/150\n",
      "449/449 - 7s - loss: 0.8363 - accuracy: 0.7147 - val_loss: 1.0807 - val_accuracy: 0.6372\n",
      "Epoch 43/150\n",
      "449/449 - 7s - loss: 0.8290 - accuracy: 0.7199 - val_loss: 1.1675 - val_accuracy: 0.6016\n",
      "Epoch 44/150\n",
      "449/449 - 7s - loss: 0.8315 - accuracy: 0.7157 - val_loss: 1.1773 - val_accuracy: 0.6266\n",
      "Epoch 45/150\n",
      "449/449 - 7s - loss: 0.8123 - accuracy: 0.7257 - val_loss: 1.0702 - val_accuracy: 0.6548\n",
      "Epoch 46/150\n",
      "449/449 - 7s - loss: 0.8144 - accuracy: 0.7249 - val_loss: 1.1289 - val_accuracy: 0.6400\n",
      "Epoch 47/150\n",
      "449/449 - 7s - loss: 0.8060 - accuracy: 0.7279 - val_loss: 1.1109 - val_accuracy: 0.6475\n",
      "Epoch 48/150\n",
      "449/449 - 7s - loss: 0.8100 - accuracy: 0.7268 - val_loss: 1.0352 - val_accuracy: 0.6447\n",
      "Epoch 49/150\n",
      "449/449 - 7s - loss: 0.7945 - accuracy: 0.7335 - val_loss: 1.0852 - val_accuracy: 0.6389\n",
      "Epoch 50/150\n",
      "449/449 - 7s - loss: 0.7937 - accuracy: 0.7311 - val_loss: 1.1498 - val_accuracy: 0.6367\n",
      "\n",
      "Epoch 00050: ReduceLROnPlateau reducing learning rate to 0.004218749818392098.\n",
      "Epoch 51/150\n",
      "449/449 - 7s - loss: 0.7731 - accuracy: 0.7419 - val_loss: 1.1075 - val_accuracy: 0.6484\n",
      "Epoch 52/150\n",
      "449/449 - 7s - loss: 0.7614 - accuracy: 0.7491 - val_loss: 1.0683 - val_accuracy: 0.6612\n",
      "Epoch 53/150\n",
      "449/449 - 7s - loss: 0.7643 - accuracy: 0.7438 - val_loss: 1.0694 - val_accuracy: 0.6459\n",
      "Epoch 54/150\n",
      "449/449 - 7s - loss: 0.7575 - accuracy: 0.7470 - val_loss: 1.1511 - val_accuracy: 0.6264\n",
      "Epoch 55/150\n",
      "449/449 - 7s - loss: 0.7587 - accuracy: 0.7457 - val_loss: 1.0981 - val_accuracy: 0.6403\n",
      "Epoch 56/150\n",
      "449/449 - 7s - loss: 0.7493 - accuracy: 0.7491 - val_loss: 1.1028 - val_accuracy: 0.6422\n",
      "Epoch 57/150\n",
      "449/449 - 7s - loss: 0.7446 - accuracy: 0.7550 - val_loss: 1.1162 - val_accuracy: 0.6509\n",
      "\n",
      "Epoch 00057: ReduceLROnPlateau reducing learning rate to 0.003164062276482582.\n",
      "Epoch 58/150\n",
      "449/449 - 7s - loss: 0.7239 - accuracy: 0.7633 - val_loss: 1.1090 - val_accuracy: 0.6481\n"
     ]
    }
   ],
   "source": [
    "# 数据增强\n",
    "data_generator = ImageDataGenerator(\n",
    "    zoom_range=0.2,\n",
    "    width_shift_range=0.2,\n",
    "    height_shift_range=0.2,\n",
    "    rotation_range=10,\n",
    "    featurewise_std_normalization=False,\n",
    "    horizontal_flip=True)\n",
    "\n",
    "\n",
    "checkpoint_cb = callbacks.ModelCheckpoint( \"autodl-tmp/models/VGG/VGG_best_model.h5\",  save_best_only=True,  monitor='val_accuracy',  mode='max')\n",
    "#过拟合监测，如果没有更小的验证损失，则网络停止训练\n",
    "es = callbacks.EarlyStopping(monitor='val_loss', patience=10, mode='min', restore_best_weights=True)\n",
    "#学习速率监测，如果没有更好的验证精度，则降低学习速率\n",
    "reduce_lr = callbacks.ReduceLROnPlateau(monitor='val_accuracy', factor=0.75, patience=5, verbose=1)\n",
    "\n",
    "history = model.fit(data_generator.flow(train_X, train_Y, batch_size),\n",
    "                    # steps_per_epoch=len(train_X) / batch_size,\n",
    "                    batch_size=batch_size,\n",
    "                    epochs=num_epochs ,\n",
    "                    verbose=2,\n",
    "                    callbacks=[checkpoint_cb,es, reduce_lr],\n",
    "                    validation_data=(val_X, val_Y))"
   ]
  },
  {
   "cell_type": "markdown",
   "id": "350a137f",
   "metadata": {
    "papermill": {
     "duration": 0.0248,
     "end_time": "2024-01-03T19:02:21.735134",
     "exception": false,
     "start_time": "2024-01-03T19:02:21.710334",
     "status": "completed"
    },
    "pycharm": {
     "name": "#%% md\n"
    },
    "tags": []
   },
   "source": [
    " "
   ]
  },
  {
   "cell_type": "code",
   "execution_count": 16,
   "id": "68408ba8",
   "metadata": {
    "papermill": {
     "duration": 1.147222,
     "end_time": "2024-01-03T19:02:22.907459",
     "exception": false,
     "start_time": "2024-01-03T19:02:21.760237",
     "status": "completed"
    },
    "pycharm": {
     "name": "#%%\n"
    },
    "tags": []
   },
   "outputs": [
    {
     "data": {
      "image/png": "[encoded data removed]",
      "text/plain": [
       "<Figure size 1296x432 with 2 Axes>"
      ]
     },
     "metadata": {
      "needs_background": "light"
     },
     "output_type": "display_data"
    }
   ],
   "source": [
    "fig, axes = plt.subplots(1, 2, figsize=(18, 6))\n",
    "# 绘制训练和验证精度曲线\n",
    "axes[0].plot(history.history['accuracy'])\n",
    "axes[0].plot(history.history['val_accuracy'])\n",
    "axes[0].set_title('Model accuracy')\n",
    "axes[0].set_ylabel('Accuracy')\n",
    "axes[0].set_xlabel('Epoch')\n",
    "axes[0].legend(['Train', 'Validation'], loc='upper left')\n",
    "\n",
    "# 绘制训练和验证损失曲线\n",
    "axes[1].plot(history.history['loss'])\n",
    "axes[1].plot(history.history['val_loss'])\n",
    "axes[1].set_title('Model loss')\n",
    "axes[1].set_ylabel('Loss')\n",
    "axes[1].set_xlabel('Epoch')\n",
    "axes[1].legend(['Train', 'Validation'], loc='upper left')\n",
    "plt.show()"
   ]
  },
  {
   "cell_type": "markdown",
   "id": "e185d4f9",
   "metadata": {
    "papermill": {
     "duration": 0.025795,
     "end_time": "2024-01-03T19:02:22.959369",
     "exception": false,
     "start_time": "2024-01-03T19:02:22.933574",
     "status": "completed"
    },
    "pycharm": {
     "name": "#%% md\n"
    },
    "tags": []
   },
   "source": [
    " "
   ]
  },
  {
   "cell_type": "code",
   "execution_count": null,
   "id": "f29ad01f",
   "metadata": {
    "papermill": {
     "duration": 1.271274,
     "end_time": "2024-01-03T19:02:24.256658",
     "exception": false,
     "start_time": "2024-01-03T19:02:22.985384",
     "status": "completed"
    },
    "pycharm": {
     "name": "#%%\n"
    },
    "tags": []
   },
   "outputs": [],
   "source": [
    "test_true = np.argmax(test_Y, axis=1)\n",
    "test_pred = np.argmax(model.predict(test_X), axis=1)\n",
    "print(\"Model Accuracy on test set: {:.4f}\".format(accuracy_score(test_true, test_pred)))"
   ]
  },
  {
   "cell_type": "markdown",
   "id": "0b8a1322",
   "metadata": {
    "papermill": {
     "duration": 0.027047,
     "end_time": "2024-01-03T19:02:24.310198",
     "exception": false,
     "start_time": "2024-01-03T19:02:24.283151",
     "status": "completed"
    },
    "pycharm": {
     "name": "#%% md\n"
    },
    "tags": []
   },
   "source": [
    " "
   ]
  },
  {
   "cell_type": "code",
   "execution_count": null,
   "id": "c187f4f8",
   "metadata": {
    "papermill": {
     "duration": 0.026421,
     "end_time": "2024-01-03T19:02:25.429857",
     "exception": false,
     "start_time": "2024-01-03T19:02:25.403436",
     "status": "completed"
    },
    "tags": []
   },
   "outputs": [],
   "source": []
  }
 ],
 "metadata": {
  "kaggle": {
   "accelerator": "gpu",
   "dataSources": [
    {
     "datasetId": 4235989,
     "sourceId": 7301650,
     "sourceType": "datasetVersion"
    }
   ],
   "dockerImageVersionId": 30626,
   "isGpuEnabled": true,
   "isInternetEnabled": true,
   "language": "python",
   "sourceType": "notebook"
  },
  "kernelspec": {
   "display_name": "Python 3 (ipykernel)",
   "language": "python",
   "name": "python3"
  },
  "language_info": {
   "codemirror_mode": {
    "name": "ipython",
    "version": 3
   },
   "file_extension": ".py",
   "mimetype": "text/x-python",
   "name": "python",
   "nbconvert_exporter": "python",
   "pygments_lexer": "ipython3",
   "version": "3.8.10"
  },
  "papermill": {
   "default_parameters": {},
   "duration": 589.741222,
   "end_time": "2024-01-03T19:02:28.574762",
   "environment_variables": {},
   "exception": null,
   "input_path": "__notebook__.ipynb",
   "output_path": "__notebook__.ipynb",
   "parameters": {},
   "start_time": "2024-01-03T18:52:38.833540",
   "version": "2.3.3"
  }
 },
 "nbformat": 4,
 "nbformat_minor": 5
}
